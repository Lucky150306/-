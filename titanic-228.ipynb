{
 "cells": [
  {
   "cell_type": "code",
   "execution_count": 1,
   "id": "3a182049",
   "metadata": {
    "_cell_guid": "b1076dfc-b9ad-4769-8c92-a6c4dae69d19",
    "_uuid": "8f2839f25d086af736a60e9eeb907d3b93b6e0e5",
    "execution": {
     "iopub.execute_input": "2024-10-26T17:50:55.146174Z",
     "iopub.status.busy": "2024-10-26T17:50:55.145714Z",
     "iopub.status.idle": "2024-10-26T17:50:58.088366Z",
     "shell.execute_reply": "2024-10-26T17:50:58.087109Z"
    },
    "papermill": {
     "duration": 2.954687,
     "end_time": "2024-10-26T17:50:58.091261",
     "exception": false,
     "start_time": "2024-10-26T17:50:55.136574",
     "status": "completed"
    },
    "tags": []
   },
   "outputs": [
    {
     "name": "stdout",
     "output_type": "stream",
     "text": [
      "/kaggle/input/titanic/train.csv\n",
      "/kaggle/input/titanic/test.csv\n",
      "/kaggle/input/titanic/gender_submission.csv\n"
     ]
    }
   ],
   "source": [
    "# This Python 3 environment comes with many helpful analytics libraries installed\n",
    "# It is defined by the kaggle/python Docker image: https://github.com/kaggle/docker-python\n",
    "# For example, here's several helpful packages to load\n",
    "\n",
    "import numpy as np # linear algebra\n",
    "import pandas as pd # data processing, CSV file I/O (e.g. pd.read_csv)\n",
    "import seaborn as sns\n",
    "import matplotlib.pyplot as plt\n",
    "# Input data files are available in the read-only \"../input/\" directory\n",
    "# For example, running this (by clicking run or pressing Shift+Enter) will list all files under the input directory\n",
    "\n",
    "import os\n",
    "for dirname, _, filenames in os.walk('/kaggle/input'):\n",
    "    for filename in filenames:\n",
    "        print(os.path.join(dirname, filename))\n",
    "\n",
    "# You can write up to 20GB to the current directory (/kaggle/working/) that gets preserved as output when you create a version using \"Save & Run All\" \n",
    "# You can also write temporary files to /kaggle/temp/, but they won't be saved outside of the current session"
   ]
  },
  {
   "cell_type": "code",
   "execution_count": 2,
   "id": "f30cb1b7",
   "metadata": {
    "execution": {
     "iopub.execute_input": "2024-10-26T17:50:58.108218Z",
     "iopub.status.busy": "2024-10-26T17:50:58.106987Z",
     "iopub.status.idle": "2024-10-26T17:50:58.158928Z",
     "shell.execute_reply": "2024-10-26T17:50:58.157702Z"
    },
    "papermill": {
     "duration": 0.063012,
     "end_time": "2024-10-26T17:50:58.161582",
     "exception": false,
     "start_time": "2024-10-26T17:50:58.098570",
     "status": "completed"
    },
    "tags": []
   },
   "outputs": [
    {
     "data": {
      "text/html": [
       "<div>\n",
       "<style scoped>\n",
       "    .dataframe tbody tr th:only-of-type {\n",
       "        vertical-align: middle;\n",
       "    }\n",
       "\n",
       "    .dataframe tbody tr th {\n",
       "        vertical-align: top;\n",
       "    }\n",
       "\n",
       "    .dataframe thead th {\n",
       "        text-align: right;\n",
       "    }\n",
       "</style>\n",
       "<table border=\"1\" class=\"dataframe\">\n",
       "  <thead>\n",
       "    <tr style=\"text-align: right;\">\n",
       "      <th></th>\n",
       "      <th>PassengerId</th>\n",
       "      <th>Survived</th>\n",
       "      <th>Pclass</th>\n",
       "      <th>Name</th>\n",
       "      <th>Sex</th>\n",
       "      <th>Age</th>\n",
       "      <th>SibSp</th>\n",
       "      <th>Parch</th>\n",
       "      <th>Ticket</th>\n",
       "      <th>Fare</th>\n",
       "      <th>Cabin</th>\n",
       "      <th>Embarked</th>\n",
       "    </tr>\n",
       "  </thead>\n",
       "  <tbody>\n",
       "    <tr>\n",
       "      <th>0</th>\n",
       "      <td>1</td>\n",
       "      <td>0</td>\n",
       "      <td>3</td>\n",
       "      <td>Braund, Mr. Owen Harris</td>\n",
       "      <td>male</td>\n",
       "      <td>22.0</td>\n",
       "      <td>1</td>\n",
       "      <td>0</td>\n",
       "      <td>A/5 21171</td>\n",
       "      <td>7.2500</td>\n",
       "      <td>NaN</td>\n",
       "      <td>S</td>\n",
       "    </tr>\n",
       "    <tr>\n",
       "      <th>1</th>\n",
       "      <td>2</td>\n",
       "      <td>1</td>\n",
       "      <td>1</td>\n",
       "      <td>Cumings, Mrs. John Bradley (Florence Briggs Th...</td>\n",
       "      <td>female</td>\n",
       "      <td>38.0</td>\n",
       "      <td>1</td>\n",
       "      <td>0</td>\n",
       "      <td>PC 17599</td>\n",
       "      <td>71.2833</td>\n",
       "      <td>C85</td>\n",
       "      <td>C</td>\n",
       "    </tr>\n",
       "    <tr>\n",
       "      <th>2</th>\n",
       "      <td>3</td>\n",
       "      <td>1</td>\n",
       "      <td>3</td>\n",
       "      <td>Heikkinen, Miss. Laina</td>\n",
       "      <td>female</td>\n",
       "      <td>26.0</td>\n",
       "      <td>0</td>\n",
       "      <td>0</td>\n",
       "      <td>STON/O2. 3101282</td>\n",
       "      <td>7.9250</td>\n",
       "      <td>NaN</td>\n",
       "      <td>S</td>\n",
       "    </tr>\n",
       "    <tr>\n",
       "      <th>3</th>\n",
       "      <td>4</td>\n",
       "      <td>1</td>\n",
       "      <td>1</td>\n",
       "      <td>Futrelle, Mrs. Jacques Heath (Lily May Peel)</td>\n",
       "      <td>female</td>\n",
       "      <td>35.0</td>\n",
       "      <td>1</td>\n",
       "      <td>0</td>\n",
       "      <td>113803</td>\n",
       "      <td>53.1000</td>\n",
       "      <td>C123</td>\n",
       "      <td>S</td>\n",
       "    </tr>\n",
       "    <tr>\n",
       "      <th>4</th>\n",
       "      <td>5</td>\n",
       "      <td>0</td>\n",
       "      <td>3</td>\n",
       "      <td>Allen, Mr. William Henry</td>\n",
       "      <td>male</td>\n",
       "      <td>35.0</td>\n",
       "      <td>0</td>\n",
       "      <td>0</td>\n",
       "      <td>373450</td>\n",
       "      <td>8.0500</td>\n",
       "      <td>NaN</td>\n",
       "      <td>S</td>\n",
       "    </tr>\n",
       "  </tbody>\n",
       "</table>\n",
       "</div>"
      ],
      "text/plain": [
       "   PassengerId  Survived  Pclass  \\\n",
       "0            1         0       3   \n",
       "1            2         1       1   \n",
       "2            3         1       3   \n",
       "3            4         1       1   \n",
       "4            5         0       3   \n",
       "\n",
       "                                                Name     Sex   Age  SibSp  \\\n",
       "0                            Braund, Mr. Owen Harris    male  22.0      1   \n",
       "1  Cumings, Mrs. John Bradley (Florence Briggs Th...  female  38.0      1   \n",
       "2                             Heikkinen, Miss. Laina  female  26.0      0   \n",
       "3       Futrelle, Mrs. Jacques Heath (Lily May Peel)  female  35.0      1   \n",
       "4                           Allen, Mr. William Henry    male  35.0      0   \n",
       "\n",
       "   Parch            Ticket     Fare Cabin Embarked  \n",
       "0      0         A/5 21171   7.2500   NaN        S  \n",
       "1      0          PC 17599  71.2833   C85        C  \n",
       "2      0  STON/O2. 3101282   7.9250   NaN        S  \n",
       "3      0            113803  53.1000  C123        S  \n",
       "4      0            373450   8.0500   NaN        S  "
      ]
     },
     "execution_count": 2,
     "metadata": {},
     "output_type": "execute_result"
    }
   ],
   "source": [
    "df = pd.read_csv(\"/kaggle/input/titanic/train.csv\")\n",
    "df.head()"
   ]
  },
  {
   "cell_type": "code",
   "execution_count": 3,
   "id": "7fa863b8",
   "metadata": {
    "execution": {
     "iopub.execute_input": "2024-10-26T17:50:58.178128Z",
     "iopub.status.busy": "2024-10-26T17:50:58.177644Z",
     "iopub.status.idle": "2024-10-26T17:50:58.194923Z",
     "shell.execute_reply": "2024-10-26T17:50:58.193750Z"
    },
    "papermill": {
     "duration": 0.028598,
     "end_time": "2024-10-26T17:50:58.197570",
     "exception": false,
     "start_time": "2024-10-26T17:50:58.168972",
     "status": "completed"
    },
    "tags": []
   },
   "outputs": [
    {
     "data": {
      "text/plain": [
       "Embarked\n",
       "S    644\n",
       "C    168\n",
       "Q     77\n",
       "Name: count, dtype: int64"
      ]
     },
     "execution_count": 3,
     "metadata": {},
     "output_type": "execute_result"
    }
   ],
   "source": [
    "df['Embarked'].value_counts()"
   ]
  },
  {
   "cell_type": "code",
   "execution_count": 4,
   "id": "87ab6b0e",
   "metadata": {
    "execution": {
     "iopub.execute_input": "2024-10-26T17:50:58.214497Z",
     "iopub.status.busy": "2024-10-26T17:50:58.214037Z",
     "iopub.status.idle": "2024-10-26T17:50:58.224293Z",
     "shell.execute_reply": "2024-10-26T17:50:58.223185Z"
    },
    "papermill": {
     "duration": 0.021652,
     "end_time": "2024-10-26T17:50:58.226786",
     "exception": false,
     "start_time": "2024-10-26T17:50:58.205134",
     "status": "completed"
    },
    "tags": []
   },
   "outputs": [
    {
     "data": {
      "text/plain": [
       "Cabin\n",
       "B96 B98        4\n",
       "G6             4\n",
       "C23 C25 C27    4\n",
       "C22 C26        3\n",
       "F33            3\n",
       "              ..\n",
       "E34            1\n",
       "C7             1\n",
       "C54            1\n",
       "E36            1\n",
       "C148           1\n",
       "Name: count, Length: 147, dtype: int64"
      ]
     },
     "execution_count": 4,
     "metadata": {},
     "output_type": "execute_result"
    }
   ],
   "source": [
    "df['Cabin'].value_counts()"
   ]
  },
  {
   "cell_type": "code",
   "execution_count": 5,
   "id": "b432d4c0",
   "metadata": {
    "execution": {
     "iopub.execute_input": "2024-10-26T17:50:58.244197Z",
     "iopub.status.busy": "2024-10-26T17:50:58.243080Z",
     "iopub.status.idle": "2024-10-26T17:50:58.268659Z",
     "shell.execute_reply": "2024-10-26T17:50:58.267090Z"
    },
    "papermill": {
     "duration": 0.037143,
     "end_time": "2024-10-26T17:50:58.271443",
     "exception": false,
     "start_time": "2024-10-26T17:50:58.234300",
     "status": "completed"
    },
    "tags": []
   },
   "outputs": [
    {
     "name": "stdout",
     "output_type": "stream",
     "text": [
      "<class 'pandas.core.frame.DataFrame'>\n",
      "RangeIndex: 891 entries, 0 to 890\n",
      "Data columns (total 12 columns):\n",
      " #   Column       Non-Null Count  Dtype  \n",
      "---  ------       --------------  -----  \n",
      " 0   PassengerId  891 non-null    int64  \n",
      " 1   Survived     891 non-null    int64  \n",
      " 2   Pclass       891 non-null    int64  \n",
      " 3   Name         891 non-null    object \n",
      " 4   Sex          891 non-null    object \n",
      " 5   Age          714 non-null    float64\n",
      " 6   SibSp        891 non-null    int64  \n",
      " 7   Parch        891 non-null    int64  \n",
      " 8   Ticket       891 non-null    object \n",
      " 9   Fare         891 non-null    float64\n",
      " 10  Cabin        204 non-null    object \n",
      " 11  Embarked     889 non-null    object \n",
      "dtypes: float64(2), int64(5), object(5)\n",
      "memory usage: 83.7+ KB\n"
     ]
    }
   ],
   "source": [
    "df.info()"
   ]
  },
  {
   "cell_type": "code",
   "execution_count": 6,
   "id": "0d34bdb1",
   "metadata": {
    "execution": {
     "iopub.execute_input": "2024-10-26T17:50:58.289110Z",
     "iopub.status.busy": "2024-10-26T17:50:58.288663Z",
     "iopub.status.idle": "2024-10-26T17:50:58.314447Z",
     "shell.execute_reply": "2024-10-26T17:50:58.313319Z"
    },
    "papermill": {
     "duration": 0.03739,
     "end_time": "2024-10-26T17:50:58.316926",
     "exception": false,
     "start_time": "2024-10-26T17:50:58.279536",
     "status": "completed"
    },
    "tags": []
   },
   "outputs": [
    {
     "data": {
      "text/html": [
       "<div>\n",
       "<style scoped>\n",
       "    .dataframe tbody tr th:only-of-type {\n",
       "        vertical-align: middle;\n",
       "    }\n",
       "\n",
       "    .dataframe tbody tr th {\n",
       "        vertical-align: top;\n",
       "    }\n",
       "\n",
       "    .dataframe thead th {\n",
       "        text-align: right;\n",
       "    }\n",
       "</style>\n",
       "<table border=\"1\" class=\"dataframe\">\n",
       "  <thead>\n",
       "    <tr style=\"text-align: right;\">\n",
       "      <th></th>\n",
       "      <th>PassengerId</th>\n",
       "      <th>Survived</th>\n",
       "      <th>Pclass</th>\n",
       "      <th>Name</th>\n",
       "      <th>Sex</th>\n",
       "      <th>Age</th>\n",
       "      <th>SibSp</th>\n",
       "      <th>Parch</th>\n",
       "      <th>Ticket</th>\n",
       "      <th>Fare</th>\n",
       "      <th>Cabin</th>\n",
       "      <th>Embarked</th>\n",
       "    </tr>\n",
       "  </thead>\n",
       "  <tbody>\n",
       "    <tr>\n",
       "      <th>0</th>\n",
       "      <td>1</td>\n",
       "      <td>0</td>\n",
       "      <td>3</td>\n",
       "      <td>Braund, Mr. Owen Harris</td>\n",
       "      <td>male</td>\n",
       "      <td>22.0</td>\n",
       "      <td>1</td>\n",
       "      <td>0</td>\n",
       "      <td>A/5 21171</td>\n",
       "      <td>7.2500</td>\n",
       "      <td>NaN</td>\n",
       "      <td>S</td>\n",
       "    </tr>\n",
       "    <tr>\n",
       "      <th>1</th>\n",
       "      <td>2</td>\n",
       "      <td>1</td>\n",
       "      <td>1</td>\n",
       "      <td>Cumings, Mrs. John Bradley (Florence Briggs Th...</td>\n",
       "      <td>female</td>\n",
       "      <td>38.0</td>\n",
       "      <td>1</td>\n",
       "      <td>0</td>\n",
       "      <td>PC 17599</td>\n",
       "      <td>71.2833</td>\n",
       "      <td>C85</td>\n",
       "      <td>C</td>\n",
       "    </tr>\n",
       "    <tr>\n",
       "      <th>2</th>\n",
       "      <td>3</td>\n",
       "      <td>1</td>\n",
       "      <td>3</td>\n",
       "      <td>Heikkinen, Miss. Laina</td>\n",
       "      <td>female</td>\n",
       "      <td>26.0</td>\n",
       "      <td>0</td>\n",
       "      <td>0</td>\n",
       "      <td>STON/O2. 3101282</td>\n",
       "      <td>7.9250</td>\n",
       "      <td>NaN</td>\n",
       "      <td>S</td>\n",
       "    </tr>\n",
       "    <tr>\n",
       "      <th>3</th>\n",
       "      <td>4</td>\n",
       "      <td>1</td>\n",
       "      <td>1</td>\n",
       "      <td>Futrelle, Mrs. Jacques Heath (Lily May Peel)</td>\n",
       "      <td>female</td>\n",
       "      <td>35.0</td>\n",
       "      <td>1</td>\n",
       "      <td>0</td>\n",
       "      <td>113803</td>\n",
       "      <td>53.1000</td>\n",
       "      <td>C123</td>\n",
       "      <td>S</td>\n",
       "    </tr>\n",
       "    <tr>\n",
       "      <th>4</th>\n",
       "      <td>5</td>\n",
       "      <td>0</td>\n",
       "      <td>3</td>\n",
       "      <td>Allen, Mr. William Henry</td>\n",
       "      <td>male</td>\n",
       "      <td>35.0</td>\n",
       "      <td>0</td>\n",
       "      <td>0</td>\n",
       "      <td>373450</td>\n",
       "      <td>8.0500</td>\n",
       "      <td>NaN</td>\n",
       "      <td>S</td>\n",
       "    </tr>\n",
       "    <tr>\n",
       "      <th>...</th>\n",
       "      <td>...</td>\n",
       "      <td>...</td>\n",
       "      <td>...</td>\n",
       "      <td>...</td>\n",
       "      <td>...</td>\n",
       "      <td>...</td>\n",
       "      <td>...</td>\n",
       "      <td>...</td>\n",
       "      <td>...</td>\n",
       "      <td>...</td>\n",
       "      <td>...</td>\n",
       "      <td>...</td>\n",
       "    </tr>\n",
       "    <tr>\n",
       "      <th>886</th>\n",
       "      <td>887</td>\n",
       "      <td>0</td>\n",
       "      <td>2</td>\n",
       "      <td>Montvila, Rev. Juozas</td>\n",
       "      <td>male</td>\n",
       "      <td>27.0</td>\n",
       "      <td>0</td>\n",
       "      <td>0</td>\n",
       "      <td>211536</td>\n",
       "      <td>13.0000</td>\n",
       "      <td>NaN</td>\n",
       "      <td>S</td>\n",
       "    </tr>\n",
       "    <tr>\n",
       "      <th>887</th>\n",
       "      <td>888</td>\n",
       "      <td>1</td>\n",
       "      <td>1</td>\n",
       "      <td>Graham, Miss. Margaret Edith</td>\n",
       "      <td>female</td>\n",
       "      <td>19.0</td>\n",
       "      <td>0</td>\n",
       "      <td>0</td>\n",
       "      <td>112053</td>\n",
       "      <td>30.0000</td>\n",
       "      <td>B42</td>\n",
       "      <td>S</td>\n",
       "    </tr>\n",
       "    <tr>\n",
       "      <th>888</th>\n",
       "      <td>889</td>\n",
       "      <td>0</td>\n",
       "      <td>3</td>\n",
       "      <td>Johnston, Miss. Catherine Helen \"Carrie\"</td>\n",
       "      <td>female</td>\n",
       "      <td>NaN</td>\n",
       "      <td>1</td>\n",
       "      <td>2</td>\n",
       "      <td>W./C. 6607</td>\n",
       "      <td>23.4500</td>\n",
       "      <td>NaN</td>\n",
       "      <td>S</td>\n",
       "    </tr>\n",
       "    <tr>\n",
       "      <th>889</th>\n",
       "      <td>890</td>\n",
       "      <td>1</td>\n",
       "      <td>1</td>\n",
       "      <td>Behr, Mr. Karl Howell</td>\n",
       "      <td>male</td>\n",
       "      <td>26.0</td>\n",
       "      <td>0</td>\n",
       "      <td>0</td>\n",
       "      <td>111369</td>\n",
       "      <td>30.0000</td>\n",
       "      <td>C148</td>\n",
       "      <td>C</td>\n",
       "    </tr>\n",
       "    <tr>\n",
       "      <th>890</th>\n",
       "      <td>891</td>\n",
       "      <td>0</td>\n",
       "      <td>3</td>\n",
       "      <td>Dooley, Mr. Patrick</td>\n",
       "      <td>male</td>\n",
       "      <td>32.0</td>\n",
       "      <td>0</td>\n",
       "      <td>0</td>\n",
       "      <td>370376</td>\n",
       "      <td>7.7500</td>\n",
       "      <td>NaN</td>\n",
       "      <td>Q</td>\n",
       "    </tr>\n",
       "  </tbody>\n",
       "</table>\n",
       "<p>891 rows × 12 columns</p>\n",
       "</div>"
      ],
      "text/plain": [
       "     PassengerId  Survived  Pclass  \\\n",
       "0              1         0       3   \n",
       "1              2         1       1   \n",
       "2              3         1       3   \n",
       "3              4         1       1   \n",
       "4              5         0       3   \n",
       "..           ...       ...     ...   \n",
       "886          887         0       2   \n",
       "887          888         1       1   \n",
       "888          889         0       3   \n",
       "889          890         1       1   \n",
       "890          891         0       3   \n",
       "\n",
       "                                                  Name     Sex   Age  SibSp  \\\n",
       "0                              Braund, Mr. Owen Harris    male  22.0      1   \n",
       "1    Cumings, Mrs. John Bradley (Florence Briggs Th...  female  38.0      1   \n",
       "2                               Heikkinen, Miss. Laina  female  26.0      0   \n",
       "3         Futrelle, Mrs. Jacques Heath (Lily May Peel)  female  35.0      1   \n",
       "4                             Allen, Mr. William Henry    male  35.0      0   \n",
       "..                                                 ...     ...   ...    ...   \n",
       "886                              Montvila, Rev. Juozas    male  27.0      0   \n",
       "887                       Graham, Miss. Margaret Edith  female  19.0      0   \n",
       "888           Johnston, Miss. Catherine Helen \"Carrie\"  female   NaN      1   \n",
       "889                              Behr, Mr. Karl Howell    male  26.0      0   \n",
       "890                                Dooley, Mr. Patrick    male  32.0      0   \n",
       "\n",
       "     Parch            Ticket     Fare Cabin Embarked  \n",
       "0        0         A/5 21171   7.2500   NaN        S  \n",
       "1        0          PC 17599  71.2833   C85        C  \n",
       "2        0  STON/O2. 3101282   7.9250   NaN        S  \n",
       "3        0            113803  53.1000  C123        S  \n",
       "4        0            373450   8.0500   NaN        S  \n",
       "..     ...               ...      ...   ...      ...  \n",
       "886      0            211536  13.0000   NaN        S  \n",
       "887      0            112053  30.0000   B42        S  \n",
       "888      2        W./C. 6607  23.4500   NaN        S  \n",
       "889      0            111369  30.0000  C148        C  \n",
       "890      0            370376   7.7500   NaN        Q  \n",
       "\n",
       "[891 rows x 12 columns]"
      ]
     },
     "execution_count": 6,
     "metadata": {},
     "output_type": "execute_result"
    }
   ],
   "source": [
    "df"
   ]
  },
  {
   "cell_type": "code",
   "execution_count": 7,
   "id": "f8ae3007",
   "metadata": {
    "execution": {
     "iopub.execute_input": "2024-10-26T17:50:58.336134Z",
     "iopub.status.busy": "2024-10-26T17:50:58.335677Z",
     "iopub.status.idle": "2024-10-26T17:50:58.361536Z",
     "shell.execute_reply": "2024-10-26T17:50:58.359650Z"
    },
    "papermill": {
     "duration": 0.039318,
     "end_time": "2024-10-26T17:50:58.364239",
     "exception": false,
     "start_time": "2024-10-26T17:50:58.324921",
     "status": "completed"
    },
    "tags": []
   },
   "outputs": [
    {
     "name": "stdout",
     "output_type": "stream",
     "text": [
      "Survived         0         1\n",
      "Sex                         \n",
      "female    0.257962  0.742038\n",
      "male      0.811092  0.188908\n"
     ]
    }
   ],
   "source": [
    "#гипотеза 1: из общего кол-ва пассажиров женщин выживало больше, чем мужчин\n",
    "survival_by_gender=df.groupby('Sex')['Survived'].value_counts(normalize=True).unstack()\n",
    "print(survival_by_gender)"
   ]
  },
  {
   "cell_type": "code",
   "execution_count": 8,
   "id": "499ec6ae",
   "metadata": {
    "execution": {
     "iopub.execute_input": "2024-10-26T17:50:58.383044Z",
     "iopub.status.busy": "2024-10-26T17:50:58.381943Z",
     "iopub.status.idle": "2024-10-26T17:50:58.716592Z",
     "shell.execute_reply": "2024-10-26T17:50:58.715456Z"
    },
    "papermill": {
     "duration": 0.346764,
     "end_time": "2024-10-26T17:50:58.719308",
     "exception": false,
     "start_time": "2024-10-26T17:50:58.372544",
     "status": "completed"
    },
    "tags": []
   },
   "outputs": [
    {
     "data": {
      "image/png": "[encoded data removed]",
      "text/plain": [
       "<Figure size 640x480 with 1 Axes>"
      ]
     },
     "metadata": {},
     "output_type": "display_data"
    }
   ],
   "source": [
    "sns.barplot(x='Sex', y='Survived', data=df)\n",
    "plt.title('Выживаемость по полу')\n",
    "plt.ylabel('Доля выживших')\n",
    "plt.show()"
   ]
  },
  {
   "cell_type": "code",
   "execution_count": 9,
   "id": "be0d198c",
   "metadata": {
    "execution": {
     "iopub.execute_input": "2024-10-26T17:50:58.738396Z",
     "iopub.status.busy": "2024-10-26T17:50:58.737975Z",
     "iopub.status.idle": "2024-10-26T17:50:58.755427Z",
     "shell.execute_reply": "2024-10-26T17:50:58.753848Z"
    },
    "papermill": {
     "duration": 0.030645,
     "end_time": "2024-10-26T17:50:58.758669",
     "exception": false,
     "start_time": "2024-10-26T17:50:58.728024",
     "status": "completed"
    },
    "tags": []
   },
   "outputs": [
    {
     "name": "stdout",
     "output_type": "stream",
     "text": [
      "Survived         0         1\n",
      "Embarked                    \n",
      "C         0.446429  0.553571\n",
      "Q         0.610390  0.389610\n",
      "S         0.660991  0.339009\n"
     ]
    },
    {
     "name": "stderr",
     "output_type": "stream",
     "text": [
      "/tmp/ipykernel_17/142265959.py:2: FutureWarning: A value is trying to be set on a copy of a DataFrame or Series through chained assignment using an inplace method.\n",
      "The behavior will change in pandas 3.0. This inplace method will never work because the intermediate object on which we are setting values always behaves as a copy.\n",
      "\n",
      "For example, when doing 'df[col].method(value, inplace=True)', try using 'df.method({col: value}, inplace=True)' or df[col] = df[col].method(value) instead, to perform the operation inplace on the original object.\n",
      "\n",
      "\n",
      "  df['Embarked'].fillna(df['Embarked'].mode()[0], inplace=True)\n"
     ]
    }
   ],
   "source": [
    "#гипотеза 2: пассажиры, севшие на борт в разных портах, имели разные шансы на выживание\n",
    "df['Embarked'].fillna(df['Embarked'].mode()[0], inplace=True)\n",
    "survival_by_embarked=df.groupby('Embarked')['Survived'].value_counts(normalize=True).unstack() #группировка по новому признаку и подсчёт доли выживших с разных портов\n",
    "print(survival_by_embarked)"
   ]
  },
  {
   "cell_type": "code",
   "execution_count": 10,
   "id": "27c35caa",
   "metadata": {
    "execution": {
     "iopub.execute_input": "2024-10-26T17:50:58.778510Z",
     "iopub.status.busy": "2024-10-26T17:50:58.777874Z",
     "iopub.status.idle": "2024-10-26T17:50:59.081992Z",
     "shell.execute_reply": "2024-10-26T17:50:59.080714Z"
    },
    "papermill": {
     "duration": 0.316811,
     "end_time": "2024-10-26T17:50:59.084382",
     "exception": false,
     "start_time": "2024-10-26T17:50:58.767571",
     "status": "completed"
    },
    "tags": []
   },
   "outputs": [
    {
     "data": {
      "image/png": "[encoded data removed]",
      "text/plain": [
       "<Figure size 640x480 with 1 Axes>"
      ]
     },
     "metadata": {},
     "output_type": "display_data"
    }
   ],
   "source": [
    "#график, подтверждающий гипотезу 2\n",
    "sns.barplot(x='Embarked', y='Survived', data=df)\n",
    "plt.title('Выживаемость в зависимости от порта')\n",
    "plt.ylabel('Доля выживших')\n",
    "plt.xlabel('Порт посадки')\n",
    "plt.show()"
   ]
  },
  {
   "cell_type": "code",
   "execution_count": 11,
   "id": "3c6944e9",
   "metadata": {
    "execution": {
     "iopub.execute_input": "2024-10-26T17:50:59.104986Z",
     "iopub.status.busy": "2024-10-26T17:50:59.104526Z",
     "iopub.status.idle": "2024-10-26T17:50:59.122377Z",
     "shell.execute_reply": "2024-10-26T17:50:59.120961Z"
    },
    "papermill": {
     "duration": 0.031109,
     "end_time": "2024-10-26T17:50:59.124866",
     "exception": false,
     "start_time": "2024-10-26T17:50:59.093757",
     "status": "completed"
    },
    "tags": []
   },
   "outputs": [
    {
     "name": "stdout",
     "output_type": "stream",
     "text": [
      "Survived              0         1\n",
      "Has_Relatives                    \n",
      "0              0.696462  0.303538\n",
      "1              0.494350  0.505650\n"
     ]
    }
   ],
   "source": [
    "#гипотеза 3: пассажиры с родственниками на борту имели больше шансов выжить\n",
    "df['Relatives']=df['SibSp']+df['Parch'] #создание нового столбца с общим кол-вом родственников\n",
    "df['Has_Relatives']=df['Relatives'].apply(lambda x:1 if x>0 else 0) #преобразовали кол-во родственников в бин.признак (-1-у кого были родственники на борту, 0 - у кого не было)\n",
    "survival_by_relatives=df.groupby('Has_Relatives')['Survived'].value_counts(normalize=True).unstack() #подсчёт доли выживших кто был с родственниками на борту и без\n",
    "print(survival_by_relatives)"
   ]
  },
  {
   "cell_type": "code",
   "execution_count": 12,
   "id": "dce7c1a9",
   "metadata": {
    "execution": {
     "iopub.execute_input": "2024-10-26T17:50:59.146043Z",
     "iopub.status.busy": "2024-10-26T17:50:59.145126Z",
     "iopub.status.idle": "2024-10-26T17:50:59.467724Z",
     "shell.execute_reply": "2024-10-26T17:50:59.466371Z"
    },
    "papermill": {
     "duration": 0.336232,
     "end_time": "2024-10-26T17:50:59.470516",
     "exception": false,
     "start_time": "2024-10-26T17:50:59.134284",
     "status": "completed"
    },
    "tags": []
   },
   "outputs": [
    {
     "data": {
      "image/png": "[encoded data removed]",
      "text/plain": [
       "<Figure size 640x480 with 1 Axes>"
      ]
     },
     "metadata": {},
     "output_type": "display_data"
    }
   ],
   "source": [
    "#график, подтверждающий гипотезу 3\n",
    "sns.barplot(x='Has_Relatives', y='Survived', data=df)\n",
    "plt.title('Выживаемость пассажиров с родственниками на борту')\n",
    "plt.ylabel('Доля выживших')\n",
    "plt.xlabel('1 - есть родственники, 0 - нет родственников')\n",
    "plt.show()"
   ]
  },
  {
   "cell_type": "code",
   "execution_count": 13,
   "id": "b178658b",
   "metadata": {
    "execution": {
     "iopub.execute_input": "2024-10-26T17:50:59.492171Z",
     "iopub.status.busy": "2024-10-26T17:50:59.491738Z",
     "iopub.status.idle": "2024-10-26T17:50:59.517172Z",
     "shell.execute_reply": "2024-10-26T17:50:59.515727Z"
    },
    "papermill": {
     "duration": 0.039459,
     "end_time": "2024-10-26T17:50:59.519967",
     "exception": false,
     "start_time": "2024-10-26T17:50:59.480508",
     "status": "completed"
    },
    "tags": []
   },
   "outputs": [
    {
     "name": "stdout",
     "output_type": "stream",
     "text": [
      "Survived              0         1\n",
      "Fare_Category                    \n",
      "Low            0.802691  0.197309\n",
      "Mid-Low        0.696429  0.303571\n",
      "Mid-High       0.545045  0.454955\n",
      "High           0.418919  0.581081\n"
     ]
    },
    {
     "name": "stderr",
     "output_type": "stream",
     "text": [
      "/tmp/ipykernel_17/140219759.py:2: FutureWarning: A value is trying to be set on a copy of a DataFrame or Series through chained assignment using an inplace method.\n",
      "The behavior will change in pandas 3.0. This inplace method will never work because the intermediate object on which we are setting values always behaves as a copy.\n",
      "\n",
      "For example, when doing 'df[col].method(value, inplace=True)', try using 'df.method({col: value}, inplace=True)' or df[col] = df[col].method(value) instead, to perform the operation inplace on the original object.\n",
      "\n",
      "\n",
      "  df['Fare'].fillna(df['Fare'].median(), inplace=True) #проверка наличия пропущенных значений в Fare\n",
      "/tmp/ipykernel_17/140219759.py:4: FutureWarning: The default of observed=False is deprecated and will be changed to True in a future version of pandas. Pass observed=False to retain current behavior or observed=True to adopt the future default and silence this warning.\n",
      "  survival_by_fare=df.groupby('Fare_Category')['Survived'].value_counts(normalize=True).unstack() #группировка данным по категориям, подсчёт доли выживших\n"
     ]
    }
   ],
   "source": [
    "#гипотеза 4: пассажиры с высокими тарифами имели больше шансов на выживание\n",
    "df['Fare'].fillna(df['Fare'].median(), inplace=True) #проверка наличия пропущенных значений в Fare\n",
    "df['Fare_Category']=pd.qcut(df['Fare'], 4, labels=['Low', 'Mid-Low', 'Mid-High', 'High']) #разделение билетов на категории от наивысшего к меньшему\n",
    "survival_by_fare=df.groupby('Fare_Category')['Survived'].value_counts(normalize=True).unstack() #группировка данным по категориям, подсчёт доли выживших\n",
    "print(survival_by_fare)"
   ]
  },
  {
   "cell_type": "code",
   "execution_count": 14,
   "id": "1257bcee",
   "metadata": {
    "execution": {
     "iopub.execute_input": "2024-10-26T17:50:59.542415Z",
     "iopub.status.busy": "2024-10-26T17:50:59.541956Z",
     "iopub.status.idle": "2024-10-26T17:50:59.948542Z",
     "shell.execute_reply": "2024-10-26T17:50:59.947299Z"
    },
    "papermill": {
     "duration": 0.421015,
     "end_time": "2024-10-26T17:50:59.951461",
     "exception": false,
     "start_time": "2024-10-26T17:50:59.530446",
     "status": "completed"
    },
    "tags": []
   },
   "outputs": [
    {
     "name": "stderr",
     "output_type": "stream",
     "text": [
      "/opt/conda/lib/python3.10/site-packages/seaborn/categorical.py:641: FutureWarning: The default of observed=False is deprecated and will be changed to True in a future version of pandas. Pass observed=False to retain current behavior or observed=True to adopt the future default and silence this warning.\n",
      "  grouped_vals = vals.groupby(grouper)\n"
     ]
    },
    {
     "data": {
      "image/png": "[encoded data removed]",
      "text/plain": [
       "<Figure size 640x480 with 1 Axes>"
      ]
     },
     "metadata": {},
     "output_type": "display_data"
    }
   ],
   "source": [
    "#график, подтверждающий гипотезу 4\n",
    "sns.barplot(x='Fare_Category', y='Survived', data=df)\n",
    "plt.title('Выживаемость в зависимости от категории билета')\n",
    "plt.ylabel('Доля выживших')\n",
    "plt.xlabel('Категория билета')\n",
    "plt.show()"
   ]
  },
  {
   "cell_type": "code",
   "execution_count": 15,
   "id": "6772b19d",
   "metadata": {
    "execution": {
     "iopub.execute_input": "2024-10-26T17:50:59.974768Z",
     "iopub.status.busy": "2024-10-26T17:50:59.974359Z",
     "iopub.status.idle": "2024-10-26T17:50:59.991094Z",
     "shell.execute_reply": "2024-10-26T17:50:59.989807Z"
    },
    "papermill": {
     "duration": 0.03112,
     "end_time": "2024-10-26T17:50:59.993661",
     "exception": false,
     "start_time": "2024-10-26T17:50:59.962541",
     "status": "completed"
    },
    "tags": []
   },
   "outputs": [
    {
     "name": "stdout",
     "output_type": "stream",
     "text": [
      "Survived         0         1\n",
      "Child                       \n",
      "0         0.637376  0.362624\n",
      "1         0.409639  0.590361\n"
     ]
    }
   ],
   "source": [
    "#гипотеза 5: дети имели больше шансов выжить\n",
    "df['Child']=df['Age'].apply(lambda x:1 if x<16 else 0) #добавим новый столбец,где пассажиры,младше 16 лет - 1, а кто старше этого возраста - 0 (деление на ребёнок/не ребёнок)\n",
    "survival_by_age=df.groupby('Child')['Survived'].value_counts(normalize=True).unstack() #группировка по новому признаку и подсчёт долю выживших среди детей и взрослых\n",
    "print(survival_by_age)"
   ]
  },
  {
   "cell_type": "code",
   "execution_count": 16,
   "id": "8ad31134",
   "metadata": {
    "execution": {
     "iopub.execute_input": "2024-10-26T17:51:00.017863Z",
     "iopub.status.busy": "2024-10-26T17:51:00.016831Z",
     "iopub.status.idle": "2024-10-26T17:51:00.353094Z",
     "shell.execute_reply": "2024-10-26T17:51:00.351280Z"
    },
    "papermill": {
     "duration": 0.351306,
     "end_time": "2024-10-26T17:51:00.355944",
     "exception": false,
     "start_time": "2024-10-26T17:51:00.004638",
     "status": "completed"
    },
    "tags": []
   },
   "outputs": [
    {
     "data": {
      "image/png": "[encoded data removed]",
      "text/plain": [
       "<Figure size 640x480 with 1 Axes>"
      ]
     },
     "metadata": {},
     "output_type": "display_data"
    }
   ],
   "source": [
    "#график, подтверждающий гипотезу 5\n",
    "sns.barplot(x='Child', y='Survived', data=df)\n",
    "plt.title('Выживаемость среди детей и взрослых')\n",
    "plt.ylabel('Доля выживших')\n",
    "plt.xlabel('0 - взрослые, 1 - дети')\n",
    "plt.show()"
   ]
  },
  {
   "cell_type": "code",
   "execution_count": 17,
   "id": "ef0faa66",
   "metadata": {
    "execution": {
     "iopub.execute_input": "2024-10-26T17:51:00.384936Z",
     "iopub.status.busy": "2024-10-26T17:51:00.383984Z",
     "iopub.status.idle": "2024-10-26T17:51:00.750705Z",
     "shell.execute_reply": "2024-10-26T17:51:00.749571Z"
    },
    "papermill": {
     "duration": 0.38423,
     "end_time": "2024-10-26T17:51:00.753192",
     "exception": false,
     "start_time": "2024-10-26T17:51:00.368962",
     "status": "completed"
    },
    "tags": []
   },
   "outputs": [
    {
     "data": {
      "image/png": "[encoded data removed]",
      "text/plain": [
       "<Figure size 640x480 with 1 Axes>"
      ]
     },
     "metadata": {},
     "output_type": "display_data"
    }
   ],
   "source": [
    "#гипотеза 6: пассажиров из первого класса выжило больше, чем пассажиров из второго и третьего классов\n",
    "sns.barplot(x='Pclass', y='Survived', data=df)\n",
    "plt.title('Выживаемость по классу')\n",
    "plt.ylabel('Доля выживших')\n",
    "plt.xlabel('Класс')\n",
    "plt.show()"
   ]
  },
  {
   "cell_type": "code",
   "execution_count": 18,
   "id": "6c66fbda",
   "metadata": {
    "execution": {
     "iopub.execute_input": "2024-10-26T17:51:00.778718Z",
     "iopub.status.busy": "2024-10-26T17:51:00.777760Z",
     "iopub.status.idle": "2024-10-26T17:51:00.784558Z",
     "shell.execute_reply": "2024-10-26T17:51:00.783403Z"
    },
    "papermill": {
     "duration": 0.022124,
     "end_time": "2024-10-26T17:51:00.786921",
     "exception": false,
     "start_time": "2024-10-26T17:51:00.764797",
     "status": "completed"
    },
    "tags": []
   },
   "outputs": [],
   "source": [
    "#Выводы\n",
    "#Гипотеза 1: из общего кол-ва пассажиров женщин выживало больше, чем мужчин.\n",
    "#пояснение: пассажиры следовали правилу: \"спасайте женщин и детей\".\n",
    "#Гипотеза 2: пассажиры, севшие на борт в разных портах, имели разные шансы на выживание\n",
    "#пояснение: пассажиры имели различие в социальном статусе, которое позволило повлиять на их возможность спасения.\n",
    "#Гипотеза 3: пассажиры с родственниками на борту имели больше шансов выжить.\n",
    "#пояснение: пассажиры с родственниками на борту получали помощь от членов семьи.\n",
    "#Гипотеза 4: пассажиры с высокими тарифами имели больше шансов на выживание.\n",
    "#пояснение: стоимость билета может коррелировать на соц.статус человека, а также в расположении кают ближе к спасательным выходам(шлюпкам).\n",
    "#Гипотеза 5: дети имели больше шансов выжить.\n",
    "#пояснение: пассажиры следовали правилу, который гласит, что женщин и детей нужно спасать в первую очередь, дети получали приоритет при спасении.\n",
    "#Гипотеза 6: пассажиров из первого класса выжило больше, чем пассажиров из второго и третьего классов.\n",
    "#пояснение: пассажиры первого класса были ближе всего к выходу, нежели пассажиры из второго и третьего классов."
   ]
  }
 ],
 "metadata": {
  "kaggle": {
   "accelerator": "none",
   "dataSources": [
    {
     "databundleVersionId": 26502,
     "sourceId": 3136,
     "sourceType": "competition"
    }
   ],
   "dockerImageVersionId": 30786,
   "isGpuEnabled": false,
   "isInternetEnabled": false,
   "language": "python",
   "sourceType": "notebook"
  },
  "kernelspec": {
   "display_name": "Python 3",
   "language": "python",
   "name": "python3"
  },
  "language_info": {
   "codemirror_mode": {
    "name": "ipython",
    "version": 3
   },
   "file_extension": ".py",
   "mimetype": "text/x-python",
   "name": "python",
   "nbconvert_exporter": "python",
   "pygments_lexer": "ipython3",
   "version": "3.10.14"
  },
  "papermill": {
   "default_parameters": {},
   "duration": 9.429525,
   "end_time": "2024-10-26T17:51:01.419480",
   "environment_variables": {},
   "exception": null,
   "input_path": "__notebook__.ipynb",
   "output_path": "__notebook__.ipynb",
   "parameters": {},
   "start_time": "2024-10-26T17:50:51.989955",
   "version": "2.6.0"
  }
 },
 "nbformat": 4,
 "nbformat_minor": 5
}
